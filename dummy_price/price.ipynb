{
 "cells": [
  {
   "cell_type": "markdown",
   "id": "ca480cb7",
   "metadata": {},
   "source": [
    "Code to add price column to datasets that dont have price column"
   ]
  },
  {
   "cell_type": "code",
   "execution_count": 1,
   "id": "60049ad0",
   "metadata": {},
   "outputs": [],
   "source": [
    "import pandas as pd\n",
    "import matplotlib.pyplot as plt\n",
    "import seaborn as sns"
   ]
  },
  {
   "cell_type": "code",
   "execution_count": 2,
   "id": "0ed11f4c",
   "metadata": {},
   "outputs": [],
   "source": [
    "# Load preprocessed datasets\n",
    "\n",
    "air = pd.read_csv('../preprocessed_data/bangalore/air_quality_bengaluru.csv')\n",
    "noise = pd.read_csv('../preprocessed_data/bangalore/noise_quality_bengaluru.csv')\n",
    "housing = pd.read_csv('../preprocessed_data/bangalore/india_housing_prices_bangalore_cleaned.csv')"
   ]
  },
  {
   "cell_type": "code",
   "execution_count": 3,
   "id": "e723d0d7",
   "metadata": {},
   "outputs": [
    {
     "name": "stdout",
     "output_type": "stream",
     "text": [
      "(2009, 19)\n",
      "(715, 11)\n",
      "(4144, 28)\n"
     ]
    }
   ],
   "source": [
    "# air quality data\n",
    "print(air.shape)\n",
    "# noise quality data\n",
    "print(noise.shape)\n",
    "# housing data\n",
    "print(housing.shape)"
   ]
  },
  {
   "cell_type": "code",
   "execution_count": null,
   "id": "30fc53da",
   "metadata": {},
   "outputs": [],
   "source": [
    "# Add price columns to noise and air\n",
    "\n",
    "# noise should be mapped in ascending order of price and ascending order of mean_excess\n",
    "\n",
    "# air should be mapped in ascending order of price and ascending order of "
   ]
  }
 ],
 "metadata": {
  "kernelspec": {
   "display_name": "Python 3",
   "language": "python",
   "name": "python3"
  },
  "language_info": {
   "codemirror_mode": {
    "name": "ipython",
    "version": 3
   },
   "file_extension": ".py",
   "mimetype": "text/x-python",
   "name": "python",
   "nbconvert_exporter": "python",
   "pygments_lexer": "ipython3",
   "version": "3.12.9"
  }
 },
 "nbformat": 4,
 "nbformat_minor": 5
}
